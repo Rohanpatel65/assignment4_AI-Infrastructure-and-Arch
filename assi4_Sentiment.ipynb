{
 "cells": [
  {
   "cell_type": "code",
   "execution_count": 5,
   "id": "35d1f95d-fdf3-4518-941b-9e39f21a94fc",
   "metadata": {},
   "outputs": [
    {
     "name": "stdout",
     "output_type": "stream",
     "text": [
      "Requirement already satisfied: pandas in c:\\users\\rohdx\\appdata\\local\\programs\\python\\python313\\lib\\site-packages (2.2.3)\n",
      "Requirement already satisfied: nltk in c:\\users\\rohdx\\appdata\\local\\programs\\python\\python313\\lib\\site-packages (3.9.1)\n",
      "Collecting vaderSentiment\n",
      "  Downloading vaderSentiment-3.3.2-py2.py3-none-any.whl.metadata (572 bytes)\n",
      "Collecting azure-storage-blob\n",
      "  Downloading azure_storage_blob-12.25.1-py3-none-any.whl.metadata (26 kB)\n",
      "Collecting pyodbc\n",
      "  Downloading pyodbc-5.2.0-cp313-cp313-win_amd64.whl.metadata (2.8 kB)\n",
      "Requirement already satisfied: numpy>=1.26.0 in c:\\users\\rohdx\\appdata\\local\\programs\\python\\python313\\lib\\site-packages (from pandas) (2.2.4)\n",
      "Requirement already satisfied: python-dateutil>=2.8.2 in c:\\users\\rohdx\\appdata\\local\\programs\\python\\python313\\lib\\site-packages (from pandas) (2.9.0.post0)\n",
      "Requirement already satisfied: pytz>=2020.1 in c:\\users\\rohdx\\appdata\\local\\programs\\python\\python313\\lib\\site-packages (from pandas) (2024.2)\n",
      "Requirement already satisfied: tzdata>=2022.7 in c:\\users\\rohdx\\appdata\\local\\programs\\python\\python313\\lib\\site-packages (from pandas) (2025.1)\n",
      "Requirement already satisfied: click in c:\\users\\rohdx\\appdata\\local\\programs\\python\\python313\\lib\\site-packages (from nltk) (8.1.8)\n",
      "Requirement already satisfied: joblib in c:\\users\\rohdx\\appdata\\local\\programs\\python\\python313\\lib\\site-packages (from nltk) (1.4.2)\n",
      "Requirement already satisfied: regex>=2021.8.3 in c:\\users\\rohdx\\appdata\\local\\programs\\python\\python313\\lib\\site-packages (from nltk) (2024.11.6)\n",
      "Requirement already satisfied: tqdm in c:\\users\\rohdx\\appdata\\local\\programs\\python\\python313\\lib\\site-packages (from nltk) (4.67.1)\n",
      "Requirement already satisfied: requests in c:\\users\\rohdx\\appdata\\local\\programs\\python\\python313\\lib\\site-packages (from vaderSentiment) (2.32.3)\n",
      "Collecting azure-core>=1.30.0 (from azure-storage-blob)\n",
      "  Downloading azure_core-1.35.0-py3-none-any.whl.metadata (44 kB)\n",
      "Requirement already satisfied: cryptography>=2.1.4 in c:\\users\\rohdx\\appdata\\local\\programs\\python\\python313\\lib\\site-packages (from azure-storage-blob) (45.0.5)\n",
      "Requirement already satisfied: typing-extensions>=4.6.0 in c:\\users\\rohdx\\appdata\\local\\programs\\python\\python313\\lib\\site-packages (from azure-storage-blob) (4.12.2)\n",
      "Collecting isodate>=0.6.1 (from azure-storage-blob)\n",
      "  Downloading isodate-0.7.2-py3-none-any.whl.metadata (11 kB)\n",
      "Requirement already satisfied: six>=1.11.0 in c:\\users\\rohdx\\appdata\\local\\programs\\python\\python313\\lib\\site-packages (from azure-core>=1.30.0->azure-storage-blob) (1.17.0)\n",
      "Requirement already satisfied: cffi>=1.14 in c:\\users\\rohdx\\appdata\\local\\programs\\python\\python313\\lib\\site-packages (from cryptography>=2.1.4->azure-storage-blob) (1.17.1)\n",
      "Requirement already satisfied: charset-normalizer<4,>=2 in c:\\users\\rohdx\\appdata\\local\\programs\\python\\python313\\lib\\site-packages (from requests->vaderSentiment) (3.4.1)\n",
      "Requirement already satisfied: idna<4,>=2.5 in c:\\users\\rohdx\\appdata\\local\\programs\\python\\python313\\lib\\site-packages (from requests->vaderSentiment) (3.10)\n",
      "Requirement already satisfied: urllib3<3,>=1.21.1 in c:\\users\\rohdx\\appdata\\local\\programs\\python\\python313\\lib\\site-packages (from requests->vaderSentiment) (2.3.0)\n",
      "Requirement already satisfied: certifi>=2017.4.17 in c:\\users\\rohdx\\appdata\\local\\programs\\python\\python313\\lib\\site-packages (from requests->vaderSentiment) (2024.12.14)\n",
      "Requirement already satisfied: colorama in c:\\users\\rohdx\\appdata\\local\\programs\\python\\python313\\lib\\site-packages (from click->nltk) (0.4.6)\n",
      "Requirement already satisfied: pycparser in c:\\users\\rohdx\\appdata\\local\\programs\\python\\python313\\lib\\site-packages (from cffi>=1.14->cryptography>=2.1.4->azure-storage-blob) (2.22)\n",
      "Downloading vaderSentiment-3.3.2-py2.py3-none-any.whl (125 kB)\n",
      "Downloading azure_storage_blob-12.25.1-py3-none-any.whl (406 kB)\n",
      "Downloading pyodbc-5.2.0-cp313-cp313-win_amd64.whl (69 kB)\n",
      "Downloading azure_core-1.35.0-py3-none-any.whl (210 kB)\n",
      "Downloading isodate-0.7.2-py3-none-any.whl (22 kB)\n",
      "Installing collected packages: pyodbc, isodate, vaderSentiment, azure-core, azure-storage-blob\n",
      "Successfully installed azure-core-1.35.0 azure-storage-blob-12.25.1 isodate-0.7.2 pyodbc-5.2.0 vaderSentiment-3.3.2\n"
     ]
    },
    {
     "name": "stderr",
     "output_type": "stream",
     "text": [
      "\n",
      "[notice] A new release of pip is available: 25.0.1 -> 25.1.1\n",
      "[notice] To update, run: python.exe -m pip install --upgrade pip\n"
     ]
    }
   ],
   "source": [
    "!pip install pandas nltk vaderSentiment azure-storage-blob pyodbc\n",
    "\n"
   ]
  },
  {
   "cell_type": "code",
   "execution_count": 7,
   "id": "88fe3b9f-b837-40ae-acc1-f4459004b1ef",
   "metadata": {},
   "outputs": [],
   "source": [
    "import pandas as pd\n",
    "from vaderSentiment.vaderSentiment import SentimentIntensityAnalyzer\n",
    "\n",
    "# Load data\n",
    "df = pd.read_csv(\"Reviews.csv\")\n",
    "\n",
    "# Basic cleaning\n",
    "df['Text'] = df['Text'].astype(str).str.replace(r'[^a-zA-Z ]', '', regex=True).str.lower()\n",
    "\n",
    "# Apply VADER\n",
    "analyzer = SentimentIntensityAnalyzer()\n",
    "df['compound'] = df['Text'].apply(lambda x: analyzer.polarity_scores(x)['compound'])\n",
    "df['Sentiment'] = df['compound'].apply(lambda x: 'positive' if x > 0 else 'negative' if x < 0 else 'neutral')\n",
    "\n",
    "# Save cleaned file\n",
    "df.to_csv(\"Reviews_Cleaned.csv\", index=False)\n"
   ]
  },
  {
   "cell_type": "code",
   "execution_count": 1,
   "id": "da4b670a-d4cb-4632-b2ba-03c03ab644f0",
   "metadata": {},
   "outputs": [
    {
     "name": "stdout",
     "output_type": "stream",
     "text": [
      "Requirement already satisfied: pyodbc in c:\\users\\rohdx\\appdata\\local\\programs\\python\\python313\\lib\\site-packages (5.2.0)\n",
      "Note: you may need to restart the kernel to use updated packages.\n"
     ]
    },
    {
     "name": "stderr",
     "output_type": "stream",
     "text": [
      "\n",
      "[notice] A new release of pip is available: 25.0.1 -> 25.1.1\n",
      "[notice] To update, run: python.exe -m pip install --upgrade pip\n"
     ]
    }
   ],
   "source": [
    "pip install pyodbc\n"
   ]
  },
  {
   "cell_type": "code",
   "execution_count": 21,
   "id": "cb8b8e3d-94e9-44a6-842c-6bc60214e211",
   "metadata": {},
   "outputs": [
    {
     "name": "stdout",
     "output_type": "stream",
     "text": [
      "Attempt 1\n",
      "('1', 'B001E4KFG0', 'A3SGXH7AUHU8GW', 'delmartian', '1', '1', '5', '1303862400', 'Good Quality Dog Food', 'i have bought several of the vitality canned dog food products and have found them all to be of good quality the product looks more like a stew than a processed meat and it smells better my labrador is finicky and she appreciates this product better than  most', '0.9441', 'positive')\n",
      "('2', 'B00813GRG4', 'A1D87F6ZCVE5NK', 'dll pa', '0', '0', '1', '1346976000', 'Not as Advertised', 'product arrived labeled as jumbo salted peanutsthe peanuts were actually small sized unsalted not sure if this was an error or if the vendor intended to represent the product as jumbo', '-0.5664', 'negative')\n",
      "('3', 'B000LQOCH0', 'ABXLMWJIXXAIN', 'Natalia Corres \"Natalia Corres\"\"\"', '1', '1', '4', '1219017600', '\"Delight\"\" says it all\"', 'this is a confection that has been around a few centuries  it is a light pillowy citrus gelatin with nuts  in this case filberts and it is cut into tiny squares and then liberally coated with powdered sugar  and it is a tiny mouthful of heaven  not too chewy and very flavorful  i highly recommend this yummy treat  if you are familiar with the story of cs lewis the lion the witch and the wardrobe  this is the treat that seduces edmund into selling out his brother and sisters to the witch', '0.8138', 'positive')\n",
      "('4', 'B000UA0QIQ', 'A395BORC6FGVXV', 'Karl', '3', '3', '2', '1307923200', 'Cough Medicine', 'if you are looking for the secret ingredient in robitussin i believe i have found it  i got this in addition to the root beer extract i ordered which was good and made some cherry soda  the flavor is very medicinal', '0.4404', 'positive')\n",
      "('5', 'B006K2ZZ7K', 'A1UQRSCLF8GW1T', 'Michael D. Bigham \"M. Wassir\"\"\"', '0', '0', '5', '1350777600', 'Great taffy', 'great taffy at a great price  there was a wide assortment of yummy taffy  delivery was very quick  if your a taffy lover this is a deal', '0.9468', 'positive')\n"
     ]
    }
   ],
   "source": [
    "import pyodbc\n",
    "\n",
    "conn_str = (\n",
    "   'DRIVER={ODBC Driver 18 for SQL Server};'\n",
    "    'SERVER=as3.database.windows.net;'\n",
    "    'DATABASE=ass3;'\n",
    "    'UID=adminn;'\n",
    "    'PWD=Password123;'\n",
    "    'Encrypt=yes;'\n",
    "    'TrustServerCertificate=yes;'\n",
    "    'Connection Timeout=30;'\n",
    ")\n",
    "\n",
    "import time\n",
    "import pyodbc\n",
    "\n",
    "for attempt in range(3):\n",
    "    try:\n",
    "        print(f\"Attempt {attempt + 1}\")\n",
    "        conn = pyodbc.connect(conn_str)\n",
    "        cursor = conn.cursor()\n",
    "        cursor.execute(\"SELECT TOP 5 * FROM dbo.Reviews_Cleaned\")\n",
    "        for row in cursor.fetchall():\n",
    "            print(row)\n",
    "        cursor.close()\n",
    "        conn.close()\n",
    "        break\n",
    "    except pyodbc.Error as e:\n",
    "        print(f\"Error on attempt {attempt + 1}: {e}\")\n",
    "        time.sleep(10) \n"
   ]
  },
  {
   "cell_type": "code",
   "execution_count": null,
   "id": "23caa869-65bc-4988-a09c-7025eb26f7e0",
   "metadata": {},
   "outputs": [],
   "source": []
  }
 ],
 "metadata": {
  "kernelspec": {
   "display_name": "Python 3 (ipykernel)",
   "language": "python",
   "name": "python3"
  },
  "language_info": {
   "codemirror_mode": {
    "name": "ipython",
    "version": 3
   },
   "file_extension": ".py",
   "mimetype": "text/x-python",
   "name": "python",
   "nbconvert_exporter": "python",
   "pygments_lexer": "ipython3",
   "version": "3.13.2"
  }
 },
 "nbformat": 4,
 "nbformat_minor": 5
}
